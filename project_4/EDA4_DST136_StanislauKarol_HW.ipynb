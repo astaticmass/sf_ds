{
 "cells": [
  {
   "cell_type": "markdown",
   "metadata": {},
   "source": [
    "# <center> Проверка данных на нормальность данных и на наличие корреляции\n",
    "\n",
    "Учащийся: **Станислав Король**\n",
    "\n",
    "Группа: **DST-136**"
   ]
  },
  {
   "cell_type": "code",
   "execution_count": 1,
   "metadata": {},
   "outputs": [],
   "source": [
    "import matplotlib.pyplot as plt\n",
    "import pandas as pd\n",
    "from scipy import stats"
   ]
  },
  {
   "cell_type": "markdown",
   "metadata": {},
   "source": [
    "В качестве данных для проверки нормальности и наличия корреляции нам дана информация по размерам раковин мидий, выращенных в Санкт-Петербурге и Магадане."
   ]
  },
  {
   "cell_type": "code",
   "execution_count": 2,
   "metadata": {},
   "outputs": [],
   "source": [
    "petersburg = [\n",
    "    0.0974, 0.1352, 0.0817, 0.1016,\n",
    "    0.0968, 0.1064, 0.105, None\n",
    "]\n",
    "magadan = [\n",
    "    0.1033, 0.0915, 0.0781, 0.0685,\n",
    "    0.0677, 0.0697, 0.0764, 0.0689\n",
    "]\n",
    "\n",
    "H0_result = 'P-value теста больше уровня значимости - результаты статистически\\\n",
    " не значимые и мы не можем отвергнуть нулевую гипотезу'\n",
    "Ha_result = 'P-value теста меньше уровня значимости - результаты статистически\\\n",
    " значимы и согласуются с альтернативной гипотезой'\n",
    "\n",
    "\n",
    "def print_stat_info(r: list, H0: str, Ha: str, a: float, n: str) -> None:\n",
    "    \"\"\"Форматированный вывод результатов статистической функции\n",
    "\n",
    "    Args:\n",
    "        r (list): Результат статистической функции\n",
    "        H0 (str): Нулевая гипотеза\n",
    "        Ha (str): Альтернативня гипотеза\n",
    "        a (float): Уровень значимости\n",
    "        n (str): Название статистической функции\n",
    "    \"\"\"\n",
    "    test_output = f'''\n",
    "{H0}\n",
    "{Ha}\n",
    "Уровень значимости (alpha) = {a}\n",
    "{n} значение P-value = {r[1]:.3f}\n",
    "'''\n",
    "    print(test_output)\n",
    "    print(H0_result) if r[1] > a else print(Ha_result)\n"
   ]
  },
  {
   "cell_type": "markdown",
   "metadata": {},
   "source": [
    "## Объединяем данные в один DataFrame"
   ]
  },
  {
   "cell_type": "code",
   "execution_count": 3,
   "metadata": {},
   "outputs": [
    {
     "name": "stdout",
     "output_type": "stream",
     "text": [
      "DataFrame mussels:\n"
     ]
    },
    {
     "data": {
      "text/html": [
       "<div>\n",
       "<style scoped>\n",
       "    .dataframe tbody tr th:only-of-type {\n",
       "        vertical-align: middle;\n",
       "    }\n",
       "\n",
       "    .dataframe tbody tr th {\n",
       "        vertical-align: top;\n",
       "    }\n",
       "\n",
       "    .dataframe thead th {\n",
       "        text-align: right;\n",
       "    }\n",
       "</style>\n",
       "<table border=\"1\" class=\"dataframe\">\n",
       "  <thead>\n",
       "    <tr style=\"text-align: right;\">\n",
       "      <th></th>\n",
       "      <th>Petersburg</th>\n",
       "      <th>Magadan</th>\n",
       "    </tr>\n",
       "  </thead>\n",
       "  <tbody>\n",
       "    <tr>\n",
       "      <th>0</th>\n",
       "      <td>0.0974</td>\n",
       "      <td>0.1033</td>\n",
       "    </tr>\n",
       "    <tr>\n",
       "      <th>1</th>\n",
       "      <td>0.1352</td>\n",
       "      <td>0.0915</td>\n",
       "    </tr>\n",
       "    <tr>\n",
       "      <th>2</th>\n",
       "      <td>0.0817</td>\n",
       "      <td>0.0781</td>\n",
       "    </tr>\n",
       "    <tr>\n",
       "      <th>3</th>\n",
       "      <td>0.1016</td>\n",
       "      <td>0.0685</td>\n",
       "    </tr>\n",
       "    <tr>\n",
       "      <th>4</th>\n",
       "      <td>0.0968</td>\n",
       "      <td>0.0677</td>\n",
       "    </tr>\n",
       "    <tr>\n",
       "      <th>5</th>\n",
       "      <td>0.1064</td>\n",
       "      <td>0.0697</td>\n",
       "    </tr>\n",
       "    <tr>\n",
       "      <th>6</th>\n",
       "      <td>0.1050</td>\n",
       "      <td>0.0764</td>\n",
       "    </tr>\n",
       "    <tr>\n",
       "      <th>7</th>\n",
       "      <td>NaN</td>\n",
       "      <td>0.0689</td>\n",
       "    </tr>\n",
       "  </tbody>\n",
       "</table>\n",
       "</div>"
      ],
      "text/plain": [
       "   Petersburg  Magadan\n",
       "0      0.0974   0.1033\n",
       "1      0.1352   0.0915\n",
       "2      0.0817   0.0781\n",
       "3      0.1016   0.0685\n",
       "4      0.0968   0.0677\n",
       "5      0.1064   0.0697\n",
       "6      0.1050   0.0764\n",
       "7         NaN   0.0689"
      ]
     },
     "metadata": {},
     "output_type": "display_data"
    },
    {
     "name": "stdout",
     "output_type": "stream",
     "text": [
      "\"Очищенный\" DataFrame mussels:\n"
     ]
    },
    {
     "data": {
      "text/html": [
       "<div>\n",
       "<style scoped>\n",
       "    .dataframe tbody tr th:only-of-type {\n",
       "        vertical-align: middle;\n",
       "    }\n",
       "\n",
       "    .dataframe tbody tr th {\n",
       "        vertical-align: top;\n",
       "    }\n",
       "\n",
       "    .dataframe thead th {\n",
       "        text-align: right;\n",
       "    }\n",
       "</style>\n",
       "<table border=\"1\" class=\"dataframe\">\n",
       "  <thead>\n",
       "    <tr style=\"text-align: right;\">\n",
       "      <th></th>\n",
       "      <th>Petersburg</th>\n",
       "      <th>Magadan</th>\n",
       "    </tr>\n",
       "  </thead>\n",
       "  <tbody>\n",
       "    <tr>\n",
       "      <th>0</th>\n",
       "      <td>0.097400</td>\n",
       "      <td>0.1033</td>\n",
       "    </tr>\n",
       "    <tr>\n",
       "      <th>1</th>\n",
       "      <td>0.135200</td>\n",
       "      <td>0.0915</td>\n",
       "    </tr>\n",
       "    <tr>\n",
       "      <th>2</th>\n",
       "      <td>0.081700</td>\n",
       "      <td>0.0781</td>\n",
       "    </tr>\n",
       "    <tr>\n",
       "      <th>3</th>\n",
       "      <td>0.101600</td>\n",
       "      <td>0.0685</td>\n",
       "    </tr>\n",
       "    <tr>\n",
       "      <th>4</th>\n",
       "      <td>0.096800</td>\n",
       "      <td>0.0677</td>\n",
       "    </tr>\n",
       "    <tr>\n",
       "      <th>5</th>\n",
       "      <td>0.106400</td>\n",
       "      <td>0.0697</td>\n",
       "    </tr>\n",
       "    <tr>\n",
       "      <th>6</th>\n",
       "      <td>0.105000</td>\n",
       "      <td>0.0764</td>\n",
       "    </tr>\n",
       "    <tr>\n",
       "      <th>7</th>\n",
       "      <td>0.103443</td>\n",
       "      <td>0.0689</td>\n",
       "    </tr>\n",
       "  </tbody>\n",
       "</table>\n",
       "</div>"
      ],
      "text/plain": [
       "   Petersburg  Magadan\n",
       "0    0.097400   0.1033\n",
       "1    0.135200   0.0915\n",
       "2    0.081700   0.0781\n",
       "3    0.101600   0.0685\n",
       "4    0.096800   0.0677\n",
       "5    0.106400   0.0697\n",
       "6    0.105000   0.0764\n",
       "7    0.103443   0.0689"
      ]
     },
     "execution_count": 3,
     "metadata": {},
     "output_type": "execute_result"
    }
   ],
   "source": [
    "mussels = pd.DataFrame({'Petersburg': petersburg, 'Magadan': magadan})\n",
    "\n",
    "print('DataFrame mussels:')\n",
    "display(mussels)\n",
    "\n",
    "# Заполняем пустые значения средним значением по столбцу, для\n",
    "# корректной работы статистических тестов\n",
    "mussels = mussels.fillna({'Petersburg': mussels['Petersburg'].mean()})\n",
    "\n",
    "print('\"Очищенный\" DataFrame mussels:')\n",
    "mussels"
   ]
  },
  {
   "cell_type": "markdown",
   "metadata": {},
   "source": [
    "## Тест на корреляцию"
   ]
  },
  {
   "cell_type": "markdown",
   "metadata": {},
   "source": [
    "**Обоснование:** при помощи корреляции можно выяснить связаны ли переменные. Т.к. размеры раковин мидий, являются непрерывными значениями - будем рассчитывать параметрический тест на корреляцию Пирсона."
   ]
  },
  {
   "cell_type": "code",
   "execution_count": 4,
   "metadata": {},
   "outputs": [
    {
     "name": "stdout",
     "output_type": "stream",
     "text": [
      "Значение корреляции Пирсона: 0.245\n"
     ]
    }
   ],
   "source": [
    "p_cor = mussels.corr().values[1, 0]\n",
    "\n",
    "print(f'Значение корреляции Пирсона: {p_cor:.3f}')"
   ]
  },
  {
   "cell_type": "markdown",
   "metadata": {},
   "source": [
    "**Вывод:** Корреляция Пирсона для размеров раковин мидий из Санкт-Петербурга и Магадана, составляет 0.245 - что означяет очень слабую связь между размерами раковин из разных городов. Таким образом размер раковин мидий из Санкт-Петербурга очень слабо влияет на размер раковин мидий из Магадана и наоборот."
   ]
  },
  {
   "cell_type": "markdown",
   "metadata": {},
   "source": [
    "## Проверка на нормальность распределения выборки"
   ]
  },
  {
   "cell_type": "markdown",
   "metadata": {},
   "source": [
    "**Обоснование:** для определения нормальности распределения выборки существуют тест Шапиро-Уилка и тест Д’Агостино K-квадрат. В нашем случае будет использован тест Шапиро-Уилка т.к. он используется для небольшого количества данных (до тысячи наблюдений). В DataFrame mussels - 16 наблюдений. Тест Д’Агостино K-квадрат не может быть использован, т.к. он применяется на выборках, где 20 и более наблюдений. Дополнительно для визуального контроля отобразим Q-Q график."
   ]
  },
  {
   "cell_type": "code",
   "execution_count": 5,
   "metadata": {},
   "outputs": [
    {
     "name": "stdout",
     "output_type": "stream",
     "text": [
      "\n",
      "Нулевая гипотеза: Данные распределены нормально\n",
      "Альтернативная гипотеза: Данные не распределены нормально\n",
      "Уровень значимости (alpha) = 0.05\n",
      "Тест Шапиро-Уилка значение P-value = 0.100\n",
      "\n",
      "P-value теста больше уровня значимости - результаты статистически не значимые и мы не можем отвергнуть нулевую гипотезу\n"
     ]
    }
   ],
   "source": [
    "H0 = 'Нулевая гипотеза: Данные распределены нормально'\n",
    "Ha = 'Альтернативная гипотеза: Данные не распределены нормально'\n",
    "alpha = 0.05\n",
    "test_name = 'Тест Шапиро-Уилка'\n",
    "\n",
    "print_stat_info(stats.shapiro(mussels), H0, Ha, alpha, test_name)"
   ]
  },
  {
   "cell_type": "markdown",
   "metadata": {},
   "source": [
    "Q-Q график"
   ]
  },
  {
   "cell_type": "code",
   "execution_count": 6,
   "metadata": {},
   "outputs": [
    {
     "data": {
      "image/png": "[encoded data removed]",
      "text/plain": [
       "<Figure size 600x500 with 1 Axes>"
      ]
     },
     "metadata": {},
     "output_type": "display_data"
    }
   ],
   "source": [
    "fig, axes = plt.subplots(figsize=(6, 5))\n",
    "stats.probplot(\n",
    "    list(mussels['Petersburg']) + list(mussels['Magadan']),\n",
    "    plot=plt\n",
    ")\n",
    "plt.show()"
   ]
  },
  {
   "cell_type": "markdown",
   "metadata": {},
   "source": [
    "**Вывод:** Нулевая гипотеза \"Данные распределены нормально\" не может быть отвергнута, т.к. P-value (0.1) больше уровня значимости (0.05). Следовательно данные в выборке исследований mussels нормально распределены (также это видно по Q-Q графику)."
   ]
  },
  {
   "cell_type": "markdown",
   "metadata": {},
   "source": [
    "## Тест на сравнение выборок"
   ]
  },
  {
   "cell_type": "markdown",
   "metadata": {},
   "source": [
    "**Обоснование:** В выборке mussels одна категориальная переменная (город) и одна количественная (размер раковины мидии), соответственно для сравнения выборок будет использован дисперсионный анализ (ANOVA)."
   ]
  },
  {
   "cell_type": "code",
   "execution_count": 7,
   "metadata": {},
   "outputs": [
    {
     "name": "stdout",
     "output_type": "stream",
     "text": [
      "\n",
      "Нулевая гипотеза: Разница среднего размера раковин мидий из Санкт-Петербурга и Магадана не значительна\n",
      "Альтернативная гипотеза: Разница среднего размера раковин мидий из Санкт-Петербурга и Магадана значительна\n",
      "Уровень значимости (alpha) = 0.05\n",
      "Дисперсионный анализ (ANOVA) значение P-value = 0.003\n",
      "\n",
      "P-value теста меньше уровня значимости - результаты статистически значимы и согласуются с альтернативной гипотезой\n"
     ]
    }
   ],
   "source": [
    "H0 = 'Нулевая гипотеза: Разница среднего размера раковин мидий из \\\n",
    "Санкт-Петербурга и Магадана не значительна'\n",
    "Ha = 'Альтернативная гипотеза: Разница среднего размера раковин мидий из \\\n",
    "Санкт-Петербурга и Магадана значительна'\n",
    "alpha = 0.05\n",
    "test_name = 'Дисперсионный анализ (ANOVA)'\n",
    "\n",
    "print_stat_info(\n",
    "    stats.f_oneway(mussels['Petersburg'], mussels['Magadan']),\n",
    "    H0, Ha, alpha, test_name\n",
    ")"
   ]
  },
  {
   "cell_type": "markdown",
   "metadata": {},
   "source": [
    "**Вывод:** Нулевая гипотеза \"Разница среднего размера раковин мидий из Санкт-Петербурга и Магадана не значительна\" отвергнута, т.к. P-value (0.003) меньше уровня значимости (0.05). Есть значимая разница между размерами раковин мидий в Санкт-Петербурге и Магадане."
   ]
  }
 ],
 "metadata": {
  "kernelspec": {
   "display_name": "Python 3.10.4 64-bit",
   "language": "python",
   "name": "python3"
  },
  "language_info": {
   "codemirror_mode": {
    "name": "ipython",
    "version": 3
   },
   "file_extension": ".py",
   "mimetype": "text/x-python",
   "name": "python",
   "nbconvert_exporter": "python",
   "pygments_lexer": "ipython3",
   "version": "3.10.4"
  },
  "orig_nbformat": 4,
  "vscode": {
   "interpreter": {
    "hash": "946feb9839a4645ab30287d1b551a06a94c9159eae961b6916d36103a3d0b7b2"
   }
  }
 },
 "nbformat": 4,
 "nbformat_minor": 2
}
