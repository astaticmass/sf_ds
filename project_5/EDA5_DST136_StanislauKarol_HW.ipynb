{
 "cells": [
  {
   "cell_type": "markdown",
   "id": "c8a6af25-08d3-487a-bd90-001772ac9161",
   "metadata": {},
   "source": [
    "## <center> **Анализ результатов A/B-тестирования**\n",
    "Учащийся: **Станислав Король**\n",
    "\n",
    "Группа: **DST-136**"
   ]
  },
  {
   "cell_type": "markdown",
   "id": "d7d45571-6545-4904-a86b-9b3b6b8163d3",
   "metadata": {},
   "source": [
    "Компания планирует запустить новую акцию, чтобы продать как можно больше туров. Команда разработала два варианта посадочной страницы официального сайта компании и провела A/B-тестирование. Собранные в результате проведения эксперимента данные вы можете найти здесь.\n",
    "\n",
    "Вам предстоит решить настоящую бизнес-задачу: проанализировать эффективность обоих вариантов посадочной страницы сразу по двум критериям: конверсии покупки и среднему чеку. На основе проведенного анализа вам будет необходимо сделать выводы и принять решение: какой из вариантов дизайна более предпочтительный.\n",
    "\n",
    "Итак, наша фирма предлагает следующие варианты туров и их соответствующие стоимости:\n",
    "* Таиланд — 100000 рублей;\n",
    "* Турция — 60000 рублей;\n",
    "* Мальдивы — 200000 рублей;\n",
    "* Санкт-Петербург — 10000 рублей;\n",
    "* Камчатка — 150000 рублей."
   ]
  },
  {
   "cell_type": "code",
   "execution_count": 1,
   "id": "a974b482-e192-4014-8520-8a5c0c946da6",
   "metadata": {},
   "outputs": [],
   "source": [
    "import pandas as pd\n",
    "import matplotlib.pyplot as plt\n",
    "import seaborn as sns\n",
    "from scipy.stats import norm\n",
    "from scipy.stats import t\n",
    "from scipy.stats import ttest_ind, shapiro\n",
    "from statsmodels.stats.proportion import proportions_ztest\n",
    "\n",
    "\n",
    "def hypo_check(r: list, method: str, H0: str, Ha: str, alpha=0.05):\n",
    "    print(method)\n",
    "    print(f'Значение p-value = {r[1]:.2f} ', end='')\n",
    "    if r[1] < alpha:\n",
    "        print(f'меньше уровня значимости (alpha) = {alpha}')\n",
    "        print(f'Принимаем альтернативную гипотезу: {Ha}')\n",
    "        print(f'Отвергаем нулевую гипотезу: {H0}')\n",
    "    else:\n",
    "        print(f'больше или равно уровня значимости (alpha) = {alpha}')\n",
    "        print(f'Принимаем нулевую гипотезу: {H0}')\n",
    "        print(f'Отвергаем альтернативную гипотезу: {Ha}')\n",
    "\n",
    "\n",
    "def proportions_conf_interval(n, x_p, gamma=0.95):\n",
    "    alpha = 1 - gamma\n",
    "    z_crit = -norm.ppf(alpha/2)\n",
    "    eps = z_crit * (x_p * (1 - x_p) / n) ** 0.5\n",
    "    lower_bound = x_p - eps\n",
    "    upper_bound = x_p + eps\n",
    "    return round(lower_bound * 100, 2), round(upper_bound * 100, 2)\n",
    "\n",
    "\n",
    "def diff_proportions_conf_interval(n, xp, gamma=0.95):\n",
    "    alpha = 1 - gamma\n",
    "    diff = xp[1] - xp[0]\n",
    "    z_crit = -norm.ppf(alpha / 2)\n",
    "    eps = z_crit * (xp[0] * (1 - xp[0])/n[0] + xp[1] * (1 - xp[1])/n[1]) ** 0.5\n",
    "    lower_bound = diff - eps\n",
    "    upper_bound = diff + eps\n",
    "    return round(lower_bound * 100, 2), round(upper_bound * 100, 2)\n",
    "\n",
    "\n",
    "def proportions_conf_interval_t(n, x_mean, x_std, gamma=0.95):\n",
    "    k = n - 1\n",
    "    alpha = 1 - gamma\n",
    "    t_crit = -t.ppf(alpha/2, k)\n",
    "    eps = t_crit * x_std/(n ** 0.5)\n",
    "    lower_bound = x_mean - eps\n",
    "    upper_bound = x_mean + eps\n",
    "    return round(lower_bound), round(upper_bound)"
   ]
  },
  {
   "cell_type": "markdown",
   "id": "55c84550-4162-4325-acc2-7d3c0aafe6f0",
   "metadata": {},
   "source": [
    "Прочитаем наши данные и посмотрим на столбцы таблицы:"
   ]
  },
  {
   "cell_type": "code",
   "execution_count": 2,
   "id": "b0d18245-b9da-44bd-8aea-d272ea74b63a",
   "metadata": {},
   "outputs": [
    {
     "data": {
      "text/html": [
       "<div>\n",
       "<style scoped>\n",
       "    .dataframe tbody tr th:only-of-type {\n",
       "        vertical-align: middle;\n",
       "    }\n",
       "\n",
       "    .dataframe tbody tr th {\n",
       "        vertical-align: top;\n",
       "    }\n",
       "\n",
       "    .dataframe thead th {\n",
       "        text-align: right;\n",
       "    }\n",
       "</style>\n",
       "<table border=\"1\" class=\"dataframe\">\n",
       "  <thead>\n",
       "    <tr style=\"text-align: right;\">\n",
       "      <th></th>\n",
       "      <th>user_id</th>\n",
       "      <th>date</th>\n",
       "      <th>group</th>\n",
       "      <th>purchase</th>\n",
       "      <th>price</th>\n",
       "    </tr>\n",
       "  </thead>\n",
       "  <tbody>\n",
       "    <tr>\n",
       "      <th>0</th>\n",
       "      <td>851104</td>\n",
       "      <td>2021-01-21</td>\n",
       "      <td>A</td>\n",
       "      <td>0</td>\n",
       "      <td>0</td>\n",
       "    </tr>\n",
       "    <tr>\n",
       "      <th>1</th>\n",
       "      <td>804228</td>\n",
       "      <td>2021-01-12</td>\n",
       "      <td>A</td>\n",
       "      <td>0</td>\n",
       "      <td>0</td>\n",
       "    </tr>\n",
       "    <tr>\n",
       "      <th>2</th>\n",
       "      <td>661590</td>\n",
       "      <td>2021-01-11</td>\n",
       "      <td>B</td>\n",
       "      <td>0</td>\n",
       "      <td>0</td>\n",
       "    </tr>\n",
       "    <tr>\n",
       "      <th>3</th>\n",
       "      <td>853541</td>\n",
       "      <td>2021-01-08</td>\n",
       "      <td>B</td>\n",
       "      <td>0</td>\n",
       "      <td>0</td>\n",
       "    </tr>\n",
       "    <tr>\n",
       "      <th>4</th>\n",
       "      <td>864975</td>\n",
       "      <td>2021-01-21</td>\n",
       "      <td>A</td>\n",
       "      <td>1</td>\n",
       "      <td>150000</td>\n",
       "    </tr>\n",
       "  </tbody>\n",
       "</table>\n",
       "</div>"
      ],
      "text/plain": [
       "   user_id        date group  purchase   price\n",
       "0   851104  2021-01-21     A         0       0\n",
       "1   804228  2021-01-12     A         0       0\n",
       "2   661590  2021-01-11     B         0       0\n",
       "3   853541  2021-01-08     B         0       0\n",
       "4   864975  2021-01-21     A         1  150000"
      ]
     },
     "execution_count": 2,
     "metadata": {},
     "output_type": "execute_result"
    }
   ],
   "source": [
    "d = pd.read_csv('data/ab_data_tourist.zip')\n",
    "d.head()"
   ]
  },
  {
   "cell_type": "markdown",
   "id": "2fc48225-26ac-49c4-b99d-8b2a03dd74a1",
   "metadata": {
    "tags": []
   },
   "source": [
    "## **Задание 7.1**\n",
    "\n",
    "Начнем с исследования структуры наших данных. С помощью метода info() выведите информацию о типах данных и количестве непустых значений. Какой тип данных имеет столбец date?"
   ]
  },
  {
   "cell_type": "code",
   "execution_count": 3,
   "id": "23496521-4878-46e2-ab02-1a98be14884a",
   "metadata": {},
   "outputs": [
    {
     "name": "stdout",
     "output_type": "stream",
     "text": [
      "<class 'pandas.core.frame.DataFrame'>\n",
      "RangeIndex: 294478 entries, 0 to 294477\n",
      "Data columns (total 5 columns):\n",
      " #   Column    Non-Null Count   Dtype \n",
      "---  ------    --------------   ----- \n",
      " 0   user_id   294478 non-null  int64 \n",
      " 1   date      294478 non-null  object\n",
      " 2   group     294478 non-null  object\n",
      " 3   purchase  294478 non-null  int64 \n",
      " 4   price     294478 non-null  int64 \n",
      "dtypes: int64(3), object(2)\n",
      "memory usage: 11.2+ MB\n"
     ]
    }
   ],
   "source": [
    "d.info()"
   ]
  },
  {
   "cell_type": "markdown",
   "id": "946d017d-b4fe-4a17-b91d-0ce369d1ab2e",
   "metadata": {
    "tags": []
   },
   "source": [
    "## **Задание 7.2**\n",
    "\n",
    "Приведите столбец date к типу данных datetime. Убедитесь в равной длительности проведения тестирования для каждой из группы. Для этого сгруппируйте данные по признаку группы и определите первую и последнюю дату наблюдения для каждой из групп. \n",
    "\n",
    "В какой промежуток времени проводился A/B-тест?"
   ]
  },
  {
   "cell_type": "code",
   "execution_count": 4,
   "id": "a901a44e",
   "metadata": {},
   "outputs": [
    {
     "name": "stdout",
     "output_type": "stream",
     "text": [
      "Периоды наблюдения\n",
      "Группа A: 2021-01-02 - 2021-01-24\n",
      "Группа B: 2021-01-02 - 2021-01-24\n"
     ]
    }
   ],
   "source": [
    "d['date'] = pd.to_datetime(d['date'], format='%Y-%m-%d')\n",
    "\n",
    "d_piv = d.groupby(['group']).agg(\n",
    "    min=('date', 'min'),\n",
    "    max=('date', 'max'),\n",
    "    visits=('user_id', 'count'),\n",
    "    purchases=('purchase', 'sum'),\n",
    "    total=('price', 'sum')\n",
    ")\n",
    "\n",
    "date_range_a = f'{str(d_piv.loc[\"A\"][\"min\"].date())} \\\n",
    "- {str(d_piv.loc[\"A\"][\"max\"].date())}'\n",
    "date_range_b = f'{str(d_piv.loc[\"B\"][\"min\"].date())} \\\n",
    "- {str(d_piv.loc[\"B\"][\"max\"].date())}'\n",
    "\n",
    "print(f'''Периоды наблюдения\n",
    "Группа A: {date_range_a}\n",
    "Группа B: {date_range_b}''')"
   ]
  },
  {
   "cell_type": "markdown",
   "id": "e04eb341-52ae-48b3-9dc2-0578ca91641a",
   "metadata": {},
   "source": [
    "## **Задание 7.3**\n",
    "\n",
    "* Чему равно количество посещений сайта в группах А и B?\n",
    "* Чему равно суммарное количество покупок в группах А и B?\n",
    "* Чему равна сумма всех покупок в группах А и B? Ответ приведите в миллионах рублей. Например, 185.52 млн. руб."
   ]
  },
  {
   "cell_type": "code",
   "execution_count": 5,
   "id": "02bf0148-488e-4f34-95bf-37794b2fa98b",
   "metadata": {},
   "outputs": [
    {
     "name": "stdout",
     "output_type": "stream",
     "text": [
      "Количество посещений сайта\n",
      "Группа A: 147202\n",
      "Группа B: 147276\n",
      "\n",
      "Суммарное количество покупок\n",
      "Группа A: 17723\n",
      "Группа B: 17514\n",
      "\n",
      "Суммарное всех покупок\n",
      "Группа A: 1436.26 млн. руб.\n",
      "Группа B: 1554.1 млн. руб.\n"
     ]
    }
   ],
   "source": [
    "print(f'''Количество посещений сайта\n",
    "Группа A: {d_piv.loc['A']['visits']}\n",
    "Группа B: {d_piv.loc['B']['visits']}\n",
    "\n",
    "Суммарное количество покупок\n",
    "Группа A: {d_piv.loc['A']['purchases']}\n",
    "Группа B: {d_piv.loc['B']['purchases']}\n",
    "\n",
    "Суммарное всех покупок\n",
    "Группа A: {round(d_piv.loc['A']['total']/1000000, 2)} млн. руб.\n",
    "Группа B: {round(d_piv.loc['B']['total']/1000000, 2)} млн. руб.''')"
   ]
  },
  {
   "cell_type": "markdown",
   "id": "2434db1b-17e6-4977-8e54-1df875c6f221",
   "metadata": {
    "tags": []
   },
   "source": [
    "## **Задание 7.4**\n",
    "\n",
    "Проверьте, есть ли пользователи, которые в процессе A/B-теста попали в обе тестовые группы? Если да, то сколько таких уникальных пользователей, если нет - введите в поле для ответа 0?\n",
    "\n",
    "**Подсказка:**\n",
    "\n",
    "*Создайте множество пользователей группы А и множество пользователей группы B. Пересеките два этих множества (операция intersection) и вычислите количество элементов в полученном множестве.*"
   ]
  },
  {
   "cell_type": "code",
   "execution_count": 6,
   "id": "57a2d711-057d-4f8b-9f56-df0f772d41c8",
   "metadata": {},
   "outputs": [
    {
     "name": "stdout",
     "output_type": "stream",
     "text": [
      "Количество пользователей, которые попали в обе тестовые группы: 1895\n"
     ]
    }
   ],
   "source": [
    "user_set_a = set(d[d['group'] == 'A']['user_id'])\n",
    "user_set_b = set(d[d['group'] == 'B']['user_id'])\n",
    "user_intersection = user_set_a.intersection(user_set_b)\n",
    "\n",
    "print(f'Количество пользователей, которые попали в обе тестовые группы:\\\n",
    " {len(user_intersection)}')"
   ]
  },
  {
   "cell_type": "markdown",
   "id": "118b1904-7d7a-4935-825e-535da45c611b",
   "metadata": {
    "tags": []
   },
   "source": [
    "## **Исключите пользователей, оказавшихся в обеих группах**\n",
    "\n",
    "Так как мы не можем определить, какая из версий сайта повлияла на принятие решения, исключим этих пользователей. Далее мы будем работать только с очищенными от пересечений данными.\n",
    "\n",
    "Возможный вариант исключения пользователей:"
   ]
  },
  {
   "cell_type": "code",
   "execution_count": 7,
   "id": "f618b34b-35a3-4bf1-8d6d-38b3401930b7",
   "metadata": {},
   "outputs": [],
   "source": [
    "d = d[d['user_id'].apply(lambda x: x not in user_intersection)]"
   ]
  },
  {
   "cell_type": "markdown",
   "id": "2bce6c9a-6580-4250-b280-204d40d20da2",
   "metadata": {},
   "source": [
    "Где user_intersection - множество пересечений пользователей групп А и B."
   ]
  },
  {
   "attachments": {
    "95f235d2-6323-4799-bf69-697fc57f727b.png": {
     "image/png": "[encoded data removed]"
    }
   },
   "cell_type": "markdown",
   "id": "2ddf6b2c-7987-41f3-82b1-8992630ae97b",
   "metadata": {
    "tags": []
   },
   "source": [
    "## **Задание 7.5**\n",
    "\n",
    "Для первичного анализа результатов A/B-тестирования нам понадобится таблица следующего вида:\n",
    "\n",
    "| group | count_visits | count_purchases | sum_price |\n",
    "|-|-|-|-|\n",
    "| A | ? | ? | ? |\n",
    "| B | ? | ? | ? |\n",
    " \n",
    "Для того, чтобы получить такую таблицу, сгруппируйте данные по признаку группы. В каждой группе рассчитайте следующие показатели:\n",
    "* количество посещений (количество пользователей)\n",
    "* количество совершенных покупок\n",
    "* сумма всех покупок в группе\n",
    "\n",
    "В полученной сгруппированной таблице переименуйте столбцы на **count_visits, count_purchases и sum_price**.\n",
    "\n",
    "**Подсказка:**\n",
    "\n",
    "*Для переименования столбцов можно использовать метод rename() с параметром columns, в который передается словарь. Ключи этого словаря - старые имена столбцов, а значения - новые.*\n",
    "\n",
    "Чему на этот раз равно количество посещений сайта в группах А и B?\n"
   ]
  },
  {
   "cell_type": "code",
   "execution_count": 8,
   "id": "5c0c018e-a250-48e9-b72a-e3c7be586ebd",
   "metadata": {},
   "outputs": [
    {
     "data": {
      "text/html": [
       "<div>\n",
       "<style scoped>\n",
       "    .dataframe tbody tr th:only-of-type {\n",
       "        vertical-align: middle;\n",
       "    }\n",
       "\n",
       "    .dataframe tbody tr th {\n",
       "        vertical-align: top;\n",
       "    }\n",
       "\n",
       "    .dataframe thead th {\n",
       "        text-align: right;\n",
       "    }\n",
       "</style>\n",
       "<table border=\"1\" class=\"dataframe\">\n",
       "  <thead>\n",
       "    <tr style=\"text-align: right;\">\n",
       "      <th></th>\n",
       "      <th>group</th>\n",
       "      <th>count_visits</th>\n",
       "      <th>count_purchases</th>\n",
       "      <th>sum_price</th>\n",
       "    </tr>\n",
       "  </thead>\n",
       "  <tbody>\n",
       "    <tr>\n",
       "      <th>0</th>\n",
       "      <td>A</td>\n",
       "      <td>145307</td>\n",
       "      <td>17487</td>\n",
       "      <td>1417780000</td>\n",
       "    </tr>\n",
       "    <tr>\n",
       "      <th>1</th>\n",
       "      <td>B</td>\n",
       "      <td>145381</td>\n",
       "      <td>17290</td>\n",
       "      <td>1533010000</td>\n",
       "    </tr>\n",
       "  </tbody>\n",
       "</table>\n",
       "</div>"
      ],
      "text/plain": [
       "  group  count_visits  count_purchases   sum_price\n",
       "0     A        145307            17487  1417780000\n",
       "1     B        145381            17290  1533010000"
      ]
     },
     "metadata": {},
     "output_type": "display_data"
    },
    {
     "name": "stdout",
     "output_type": "stream",
     "text": [
      "Количество посещений сайта\n",
      "Группа A: 145307\n",
      "Группа B: 145381\n"
     ]
    }
   ],
   "source": [
    "d_total_piv = d.groupby(['group']).agg(\n",
    "    count_visits=('user_id', 'count'),\n",
    "    count_purchases=('purchase', 'sum'),\n",
    "    sum_price=('price', 'sum')\n",
    ")\n",
    "\n",
    "visits_a = d_total_piv.loc['A']['count_visits']\n",
    "visits_b = d_total_piv.loc['B']['count_visits']\n",
    "\n",
    "display(d_total_piv.reset_index())\n",
    "\n",
    "print(f'''Количество посещений сайта\n",
    "Группа A: {visits_a}\n",
    "Группа B: {visits_b}''')"
   ]
  },
  {
   "cell_type": "markdown",
   "id": "b71e1390-9846-4a8e-b357-f82b847d1952",
   "metadata": {},
   "source": [
    "Приведите промежуточные выводы по построенной таблице. Сопоставимо ли количество посещений обоих вариантов посадочной странице, можно ли говорить о сбалансированности выборок?"
   ]
  },
  {
   "cell_type": "markdown",
   "id": "4ea1b65b-475e-4bff-9460-fac0acdb9620",
   "metadata": {},
   "source": [
    "**Выводы:** Количество посещений для посадочной страницы группы A - 145307, группы B - 145381. Количество посещений можно считать одинаковым, т.к. разница составляет 74 посещения, что составляет 0,05% - её мы будет считать погрешностью. Соответственно данные групп A и B сопоставимы и можно продолжать анализ вариантов посадочных страниц."
   ]
  },
  {
   "cell_type": "markdown",
   "id": "afb2ee0a-31d1-45a5-be42-a2bf168b9448",
   "metadata": {
    "tags": []
   },
   "source": [
    "## **Задание 7.6**\n",
    "\n",
    "Добавьте в сгруппированную таблицу столбцы conversion - конверсия покупки (отношение количества покупок к количеству посещений сайта в каждой группе, выраженное в процентах) и mean_check - средний чек (отношение суммы покупок к количеству покупок в каждой группе).\n",
    "\n",
    "* Чему равна конверсия в группах? Ответ приведите в процентах и округлите до сотых. Например, 75.12 %;\n",
    "* Чему равен средний чек в группах? Ответ приведите в рублях и округлите до целых. Например, 120519 рублей."
   ]
  },
  {
   "cell_type": "code",
   "execution_count": 9,
   "id": "bd9c3b3e-5956-41a8-bae0-43693f6de1f2",
   "metadata": {},
   "outputs": [
    {
     "name": "stdout",
     "output_type": "stream",
     "text": [
      "Конверсия\n",
      "Группа A: 12.03%\n",
      "Группа B: 11.89%\n",
      "\n",
      "Средний чек\n",
      "Группа A: 81076 рублей\n",
      "Группа B: 88665 рублей\n"
     ]
    }
   ],
   "source": [
    "d_total_piv['conversion'] = \\\n",
    "    d_total_piv['count_purchases']/d_total_piv['count_visits']\n",
    "d_total_piv['mean_check'] = \\\n",
    "    d_total_piv['sum_price'] / d_total_piv['count_purchases']\n",
    "\n",
    "conv_a = round(d_total_piv.loc['A']['conversion'] * 100, 2)\n",
    "conv_b = round(d_total_piv.loc['B']['conversion'] * 100, 2)\n",
    "check_a = round(d_total_piv.loc['A']['mean_check'])\n",
    "check_b = round(d_total_piv.loc['B']['mean_check'])\n",
    "\n",
    "print(f'''Конверсия\n",
    "Группа A: {conv_a}%\n",
    "Группа B: {conv_b}%\n",
    "\n",
    "Средний чек\n",
    "Группа A: {check_a} рублей\n",
    "Группа B: {check_b} рублей''')"
   ]
  },
  {
   "cell_type": "markdown",
   "id": "1eb6e140-c702-43e0-b301-9914a7f49448",
   "metadata": {},
   "source": [
    "Приведите промежуточные выводы по таблице. По какому(им) показателю(ям) вариант А эффективнее варианта B и наоборот?"
   ]
  },
  {
   "cell_type": "markdown",
   "id": "9e88c883-84f9-44ec-accd-04d5d459b261",
   "metadata": {},
   "source": [
    "**Выводы:** Конверсия группы A выше конверсии группы B на 0,14%. Средний чек на группы A меньше среднего чека группы B на 7589 руб. Группа A по показателю конверсии незначительно эффективнее группы B, а по показателю среднего чека группа B эффективнее группы A."
   ]
  },
  {
   "cell_type": "markdown",
   "id": "7f9f1ae0-f12f-49b3-8b57-1c299c208c49",
   "metadata": {
    "tags": []
   },
   "source": [
    "## **Задание 7.7**\n",
    "\n",
    "Теперь давайте сравним варианты по покупательской способности туров. Для этого постройте сводную таблицу, которая покажет зависимость количества продаж от группы и цены тура."
   ]
  },
  {
   "cell_type": "code",
   "execution_count": 10,
   "id": "78d46a02-cc30-4783-9b18-9fc9c6a08012",
   "metadata": {},
   "outputs": [
    {
     "data": {
      "text/html": [
       "<div>\n",
       "<style scoped>\n",
       "    .dataframe tbody tr th:only-of-type {\n",
       "        vertical-align: middle;\n",
       "    }\n",
       "\n",
       "    .dataframe tbody tr th {\n",
       "        vertical-align: top;\n",
       "    }\n",
       "\n",
       "    .dataframe thead th {\n",
       "        text-align: right;\n",
       "    }\n",
       "</style>\n",
       "<table border=\"1\" class=\"dataframe\">\n",
       "  <thead>\n",
       "    <tr style=\"text-align: right;\">\n",
       "      <th>price</th>\n",
       "      <th>0</th>\n",
       "      <th>10000</th>\n",
       "      <th>60000</th>\n",
       "      <th>100000</th>\n",
       "      <th>150000</th>\n",
       "      <th>200000</th>\n",
       "    </tr>\n",
       "    <tr>\n",
       "      <th>group</th>\n",
       "      <th></th>\n",
       "      <th></th>\n",
       "      <th></th>\n",
       "      <th></th>\n",
       "      <th></th>\n",
       "      <th></th>\n",
       "    </tr>\n",
       "  </thead>\n",
       "  <tbody>\n",
       "    <tr>\n",
       "      <th>A</th>\n",
       "      <td>127820</td>\n",
       "      <td>5182</td>\n",
       "      <td>5271</td>\n",
       "      <td>1832</td>\n",
       "      <td>3478</td>\n",
       "      <td>1724</td>\n",
       "    </tr>\n",
       "    <tr>\n",
       "      <th>B</th>\n",
       "      <td>128091</td>\n",
       "      <td>5201</td>\n",
       "      <td>1730</td>\n",
       "      <td>5227</td>\n",
       "      <td>3438</td>\n",
       "      <td>1694</td>\n",
       "    </tr>\n",
       "  </tbody>\n",
       "</table>\n",
       "</div>"
      ],
      "text/plain": [
       "price  0       10000   60000   100000  150000  200000\n",
       "group                                                \n",
       "A      127820    5182    5271    1832    3478    1724\n",
       "B      128091    5201    1730    5227    3438    1694"
      ]
     },
     "execution_count": 10,
     "metadata": {},
     "output_type": "execute_result"
    }
   ],
   "source": [
    "d_purpower_piv = d.pivot_table(\n",
    "    values='purchase',\n",
    "    index='group',\n",
    "    columns='price',\n",
    "    aggfunc='count'\n",
    ")\n",
    "\n",
    "d_purpower_piv"
   ]
  },
  {
   "cell_type": "markdown",
   "id": "977423ed-8f8d-475c-b773-621edd95338d",
   "metadata": {},
   "source": [
    "Визуализируйте полученную сводную таблицу с помощью тепловой карты с аннотацией.\n",
    "\n",
    "Чему равно количество проданных туров за 60000 рублей в группах?"
   ]
  },
  {
   "cell_type": "code",
   "execution_count": 11,
   "id": "f634fa8d-585c-42e3-b7d5-78e8d9eaa8c5",
   "metadata": {},
   "outputs": [
    {
     "name": "stdout",
     "output_type": "stream",
     "text": [
      "Количество туров проданных за 60000 рублей\n",
      "Группа A: 5271\n",
      "Группа B: 1730\n"
     ]
    },
    {
     "data": {
      "image/png": "[encoded data removed]",
      "text/plain": [
       "<Figure size 800x200 with 2 Axes>"
      ]
     },
     "metadata": {},
     "output_type": "display_data"
    }
   ],
   "source": [
    "# Удаляем столбец нулевой цены для большей информативности тепловой карты\n",
    "d_purpower_piv.drop(0, axis=1, inplace=True)\n",
    "\n",
    "fig, axes = plt.subplots(figsize=(8, 2))\n",
    "group_sale_hm = sns.heatmap(\n",
    "    data=d_purpower_piv,\n",
    "    cmap='crest',\n",
    "    annot=True,\n",
    "    fmt='.0f'\n",
    ")\n",
    "group_sale_hm.set(\n",
    "    xlabel='Цена, руб',\n",
    "    ylabel='Группа',\n",
    "    title='Покупательская способность туров'\n",
    ")\n",
    "sns.despine()\n",
    "\n",
    "print(f'''Количество туров проданных за 60000 рублей\n",
    "Группа A: {d_purpower_piv.loc['A'][60000]}\n",
    "Группа B: {d_purpower_piv.loc['B'][60000]}''')"
   ]
  },
  {
   "cell_type": "markdown",
   "id": "9caa92ca-e261-4b8f-a16c-2abc322c9ffb",
   "metadata": {},
   "source": [
    "Сделайте выводы по построенной таблице. По каким турам покупательская способность участников группы А выше, чем участников группы B и наоборот?"
   ]
  },
  {
   "cell_type": "markdown",
   "id": "6d13fd45-e3df-468f-9d32-1fc45d38b10c",
   "metadata": {},
   "source": [
    "**Выводы:** Количество проданных туров в ценовых группах 10000, 150000 и 200000 для групп A и B отличаются незначительно и мы предполагаем, что количество продаж не зависит от вариантов посадочной страницы. В ценовой группе 60000 продажи в группе A превышают продажи в группе B в 3 раза. А в ценовой группе 100000 продажи в группе B превышают продажи в группе A примерно в 3 раза. Следовательно вариант посадочной страницы группы A более эффективен для продажи билетов в Турцию (60000 руб), а вариант группы B более эффективен для продажи билетов в Таиланд (100000 руб). В общем вариант посадочной страницы группы B более эффективен, т.к. приносит компании больше выручки за счёт более эффективной продажи дорогих туров в Таиланд."
   ]
  },
  {
   "cell_type": "markdown",
   "id": "8f021fb4-d0f6-4e43-b518-1a96c07a4531",
   "metadata": {
    "tags": []
   },
   "source": [
    "## **Задание 7.8**\n",
    "\n",
    "Настало время поговорить о стабилизации кумулятивных метрик во времени. Но прежде, чем перейти к кумулятивным метрикам, нам необходимо построить таблицу с ежедневными данными результатов проведения A/B-тестирования.\n",
    "\n",
    "Сгруппируйте данные по дате и группе тестирования. В каждой группе вычислите количество посещений страницы, количество покупок и сумму покупок. \n",
    "\n",
    "Добавьте в таблицу информацию о ежедневной конверсии (ежедневное количество покупок / ежедневное количество посещений) в группе и ежедневном среднем чеке (ежедневная сумма покупок / ежедневное количество покупок).\n",
    "* Чему равна конверсия 3 января 2021 года? Ответ приведите в процентах и округлите до сотых;\n",
    "* Чему равен средний чек 3 января 2021 года? Ответ приведите в рублях и округлите до целого."
   ]
  },
  {
   "cell_type": "code",
   "execution_count": 12,
   "id": "4503b528-412e-433a-bc03-da7da52fa1a3",
   "metadata": {},
   "outputs": [
    {
     "name": "stdout",
     "output_type": "stream",
     "text": [
      "Конверсия на 3-е января 2021 года\n",
      "Группа A: 11.34%\n",
      "Группа B: 11.39%\n",
      "\n",
      "Средний чек на 3-е января 2021 года\n",
      "Группа A: 82888 руб\n",
      "Группа B: 87480 руб\n"
     ]
    }
   ],
   "source": [
    "d_daily_piv = d.groupby(['group', 'date']).agg(\n",
    "    count_visits=('user_id', 'count'),\n",
    "    count_purchases=('purchase', 'sum'),\n",
    "    sum_price=('price', 'sum')\n",
    ")\n",
    "d_daily_piv['conversion'] = \\\n",
    "    d_daily_piv['count_purchases'] / d_daily_piv['count_visits']\n",
    "d_daily_piv['mean_check'] = \\\n",
    "    d_daily_piv['sum_price'] / d_daily_piv['count_purchases']\n",
    "\n",
    "conv_a = round(d_daily_piv.loc[('A', '2021-01-03')]['conversion'] * 100, 2)\n",
    "conv_b = round(d_daily_piv.loc[('B', '2021-01-03')]['conversion'] * 100, 2)\n",
    "\n",
    "mean_ch_a = round(d_daily_piv.loc[('A', '2021-01-03')]['mean_check'])\n",
    "mean_ch_b = round(d_daily_piv.loc[('B', '2021-01-03')]['mean_check'])\n",
    "\n",
    "print(f'''Конверсия на 3-е января 2021 года\n",
    "Группа A: {conv_a}%\n",
    "Группа B: {conv_b}%\n",
    "\n",
    "Средний чек на 3-е января 2021 года\n",
    "Группа A: {mean_ch_a} руб\n",
    "Группа B: {mean_ch_b} руб''')"
   ]
  },
  {
   "cell_type": "markdown",
   "id": "bc8e241b-1ef1-4f67-ab90-77251889b7f2",
   "metadata": {},
   "source": [
    "## **Задание 7.9** \n",
    "\n",
    "Добавьте в таблицу с ежедневными показателями кумулятивные признаки:\n",
    "* кумулятивное количество посещений страницы\n",
    "* кумулятивное количество покупок\n",
    "* кумулятивную сумму покупок\n",
    "\n",
    "Не забудьте при расчете кумулятивной суммы сгруппировать данные по группам. \n",
    "\n",
    "Вычислите кумулятивную конверсию и кумулятивный средний чек на основе полученных кумулятивных показателей. \n",
    "\n",
    "* Какая **кумулятивная** конверсия была в группе B на 20 января? Ответ приведите в процентах, округлив до сотых.\n",
    "* Какой **кумулятивный** средний чек был в группе А на 12 января 2021 года? Ответ приведите в рублях, округлив до целых."
   ]
  },
  {
   "cell_type": "code",
   "execution_count": 13,
   "id": "afe59f9a-8d39-45c1-a14f-9f62091d81a1",
   "metadata": {},
   "outputs": [
    {
     "name": "stdout",
     "output_type": "stream",
     "text": [
      "Кумулятивная конверсия на 20.01.2021 года в группе B: 11.9%\n",
      "Кумулятивный средний чек на 12.01.2021 года в группе A: 81492 руб\n"
     ]
    }
   ],
   "source": [
    "d_daily_piv.sort_values(['group', 'date'], inplace=True)\n",
    "\n",
    "d_daily_piv['csum_visits'] = \\\n",
    "    d_daily_piv.groupby(['group'])['count_visits'].cumsum()\n",
    "d_daily_piv['csum_purchases'] = \\\n",
    "    d_daily_piv.groupby(['group'])['count_purchases'].cumsum()\n",
    "d_daily_piv['csum_price'] = \\\n",
    "    d_daily_piv.groupby(['group'])['sum_price'].cumsum()\n",
    "\n",
    "d_daily_piv['csum_conversion'] = \\\n",
    "    d_daily_piv['csum_purchases'] / d_daily_piv['csum_visits']\n",
    "d_daily_piv['csum_mean_check'] = \\\n",
    "    d_daily_piv['csum_price'] / d_daily_piv['csum_purchases']\n",
    "\n",
    "cconv_b = round(\n",
    "    d_daily_piv.loc[('B', '2021-01-20')]['csum_conversion'] * 100, 2\n",
    ")\n",
    "cmean_ch_a = round(d_daily_piv.loc[('A', '2021-01-12')]['csum_mean_check'])\n",
    "\n",
    "print(f'''Кумулятивная конверсия на 20.01.2021 года в группе B: {cconv_b}%\n",
    "Кумулятивный средний чек на 12.01.2021 года в группе A: {cmean_ch_a} руб''')"
   ]
  },
  {
   "cell_type": "markdown",
   "id": "c252b8ba-371b-4795-8fc3-a62317e9ba39",
   "metadata": {},
   "source": [
    "Постройте кумулятивные графики конверсии и среднего чека в каждой группе по дням. Сделайте выводы. Можно ли назвать A/B-тест завершенным - стабилизировались ли значения метрик во времени? Как соотносятся кумулятивные показатели в каждой группе?"
   ]
  },
  {
   "cell_type": "code",
   "execution_count": 14,
   "id": "27e23d20-7ed6-4a26-973d-6d0320b81adb",
   "metadata": {},
   "outputs": [
    {
     "data": {
      "image/png": "[encoded data removed]",
      "text/plain": [
       "<Figure size 600x300 with 1 Axes>"
      ]
     },
     "metadata": {},
     "output_type": "display_data"
    },
    {
     "data": {
      "image/png": "[encoded data removed]",
      "text/plain": [
       "<Figure size 600x300 with 1 Axes>"
      ]
     },
     "metadata": {},
     "output_type": "display_data"
    }
   ],
   "source": [
    "fig = plt.figure(figsize=(6, 3))\n",
    "ax = fig.add_axes([1, 1, 1, 1])\n",
    "sns.lineplot(\n",
    "    data=d_daily_piv,\n",
    "    x='date',\n",
    "    y='csum_conversion',\n",
    "    hue='group',\n",
    "    ax=ax\n",
    ")\n",
    "ax.set(\n",
    "    xlabel='Дата',\n",
    "    ylabel='Кумулятивная конверсия',\n",
    "    title='График кумулятивной конверсии в разрезе дней'\n",
    ")\n",
    "plt.legend(title='Группа')\n",
    "ax.grid();\n",
    "\n",
    "fig = plt.figure(figsize=(6, 3))\n",
    "ax = fig.add_axes([1, 1, 1, 1])\n",
    "sns.lineplot(\n",
    "    data=d_daily_piv,\n",
    "    x='date',\n",
    "    y='csum_mean_check',\n",
    "    hue='group',\n",
    "    ax=ax\n",
    ")\n",
    "ax.set(\n",
    "    xlabel='Дата',\n",
    "    ylabel='Кумулятивный средний чек, руб',\n",
    "    title='График кумулятивного среднего чека в разрезе дней'\n",
    ")\n",
    "plt.legend(title='Группа')\n",
    "ax.grid();"
   ]
  },
  {
   "cell_type": "markdown",
   "id": "f645f8e5-ad16-4b3b-8228-fbdeeb286833",
   "metadata": {},
   "source": [
    "**Выводы:** По графику кумулятивной конверсии видно, что данные в группе A и B стабилизируются после 15.01.2021 года, соответственно A/B-тест можно считать завершённым по метрике конверсии. Так же видно, что кумулятивная конверсия в группе A стабильно выше конверсии группы B на 10%, после 15.01.2021. По графику кумулятивного среднего чека видно, что графики группы A и B стабилизируются после 12.01.2021,соответственно A/B-тест можно считать завершённым по метрике суммы среднего чека. График группы A стабилизируется на значении среднего чека в 81000 руб, а график группы B стабилизируется на значении среднего чека около 88500 руб. По информации обоих графиков видно, что даже при более низкой конверсии посадочной страницы группы B, этот вариант страницы более эффективен, чем вариант группы A и приносит больше выручки компании."
   ]
  },
  {
   "cell_type": "markdown",
   "id": "2ecaa382-56e2-47f4-b086-24b4742570a3",
   "metadata": {
    "tags": []
   },
   "source": [
    "## **Задание 7.10**\n",
    "\n",
    "Настало время переходить к проверке статистической значимости разницы между метриками в группах. Начнем с конверсии.\n",
    "\n",
    "Какой тест вы примените для проверки гипотезы о равенстве конверсий в группах?\n",
    "\n",
    "Проведите тестирование при следующих нулевой и альтернативной гипотезе:\n",
    "* $H_0$: Конверсии в группах А и B равны; \n",
    "* $H_1$: Конверсия в группе А больше чем конверсия в группе B;\n",
    "\n",
    "Вычислите p-value вашего теста для конверсий в группах А и B. Сравните полученное значение p-value с уровнем значимости $\\alpha$=0.05. "
   ]
  },
  {
   "cell_type": "code",
   "execution_count": 15,
   "id": "9dd1f6fd-2fa0-4a2f-8181-dbed4c302bce",
   "metadata": {},
   "outputs": [
    {
     "name": "stdout",
     "output_type": "stream",
     "text": [
      "Z-тест для пропорций (больше)\n",
      "Значение p-value = 0.12 больше или равно уровня значимости (alpha) = 0.05\n",
      "Принимаем нулевую гипотезу: Конверсии в группах А и B равны\n",
      "Отвергаем альтернативную гипотезу: Конверсия в группе А выше, чем конверсия в группе B\n"
     ]
    }
   ],
   "source": [
    "hypo_check(\n",
    "    proportions_ztest(\n",
    "        count=d_total_piv['count_purchases'],\n",
    "        nobs=d_total_piv['count_visits'],\n",
    "        alternative='larger',\n",
    "    ),\n",
    "    method='Z-тест для пропорций (больше)',\n",
    "    H0='Конверсии в группах А и B равны',\n",
    "    Ha='Конверсия в группе А выше, чем конверсия в группе B'\n",
    ")"
   ]
  },
  {
   "cell_type": "markdown",
   "id": "da794b48-80e3-47af-aceb-084a1862c86b",
   "metadata": {},
   "source": [
    "Приведите свои выводы по результатам проведенного статистического теста. Есть ли статистическая разница между конверсиями в группах А и B?"
   ]
  },
  {
   "cell_type": "markdown",
   "id": "75dddb06-389d-4d65-92c7-425efa28e51a",
   "metadata": {},
   "source": [
    "**Выводы:** Z-тест для пропорций показал, что истинные значения конверсий в группах равны (при $\\alpha$=0.05), следовательно полученная разница метрики в группах статистически не значима. Таким образом разницы в конверсии между вариантами посадочной страницы группы A и группы B - нет. Группы A и B статистически одинаковы по метрике конверсии."
   ]
  },
  {
   "cell_type": "markdown",
   "id": "32c5a1af-8cb2-4f3c-a126-410b70fb3ff3",
   "metadata": {
    "tags": []
   },
   "source": [
    "## **Задание 7.11**\n",
    "Убедитесь в своих рассуждениях, построив 95%-ый доверительный интервал для конверсий и разницы между ними. Используйте $z_{крит}$ в своих расчетах.\n",
    "\n",
    "Укажите нижнюю и верхнюю границы доверительных интервалов. Границы приведите в процентах и округлите до 2 знака после запятой. Например: нижняя граница 89.24%, верхняя граница 91.25%."
   ]
  },
  {
   "cell_type": "code",
   "execution_count": 16,
   "id": "e9decb7d-ff5e-40a6-8b71-63627c4ef64a",
   "metadata": {},
   "outputs": [
    {
     "name": "stdout",
     "output_type": "stream",
     "text": [
      "Доверительные интервалы, %\n",
      "Группа A: (11.87, 12.2)\n",
      "Группа B: (11.73, 12.06)\n",
      "Разность конверсий групп A и B: (-0.38, 0.09)\n"
     ]
    }
   ],
   "source": [
    "conf_interval_a = proportions_conf_interval(\n",
    "    n=d_total_piv.loc['A']['count_visits'],\n",
    "    x_p=d_total_piv.loc['A']['conversion']\n",
    ")\n",
    "\n",
    "conf_interval_b = proportions_conf_interval(\n",
    "    n=d_total_piv.loc['B']['count_visits'],\n",
    "    x_p=d_total_piv.loc['B']['conversion']\n",
    ")\n",
    "\n",
    "n = [\n",
    "    d_total_piv.loc['A']['count_visits'],\n",
    "    d_total_piv.loc['B']['count_visits']\n",
    "]\n",
    "xp = [\n",
    "    d_total_piv.loc['A']['conversion'],\n",
    "    d_total_piv.loc['B']['conversion']\n",
    "]\n",
    "diff_inverval = diff_proportions_conf_interval(n, xp)\n",
    "\n",
    "print(f'''Доверительные интервалы, %\n",
    "Группа A: {conf_interval_a}\n",
    "Группа B: {conf_interval_b}\n",
    "Разность конверсий групп A и B: {diff_inverval}''')"
   ]
  },
  {
   "cell_type": "markdown",
   "id": "9332372d-66b2-45e9-a74c-f5d8b1d44afb",
   "metadata": {},
   "source": [
    "Интерпретируйте построенные доверительные интервалы для конверсий в группах. Есть ли перекрытие между доверительными интервалами для групп? Есть ли статистическая разница между конверсиями в группах А и B?"
   ]
  },
  {
   "cell_type": "markdown",
   "id": "afd5073c",
   "metadata": {},
   "source": [
    "**Выводы:** На основании расчётов видно, что с надёжностью в 95% конверсия группы А лежит в интервале от 11.87% до 12.2%, а конверсия группы B лежит в интервале от 11.73% до 12.06%. Доверительные интервалы групп A и B пересекаются в интервале с 11,87% по 12,06% - следовательно существует вероятность, что истинное значение конверсии в обеих группах может попасть в этот интервал. Построенный доверительный интервал с надёжностью в 95% говорит нам, что разница в конверсии между вариантом группы A и вариантом группы B лежит в интервале от -0.38% до 0.09%. То есть разница в конверсии с 95%-ой надёжностью может быть как положительной, так и отрицательной. Интервал охватывает точку 0 - соответственно мы имеем дело с третьим случаем. Отсюда можно сделать вывод, что статистической разницы в конверсии между вариантами групп А и B не существует, то есть они являются равнозначными по метрике конверсии."
   ]
  },
  {
   "cell_type": "markdown",
   "id": "73c54883-b919-4889-bbf2-e1bdeb0b7055",
   "metadata": {},
   "source": [
    "## **Задание 7.12**\n",
    "\n",
    "Ранее мы построили таблицу с ежедневными показателями. Теперь она нам снова понадобится, так как нас интересует ежедневный средний чек.\n",
    "\n",
    "Проверьте гипотезу о нормальности распределения ежедневного среднего чека в каждой из групп тестирования. \n",
    "\n",
    "* Какой тест вы примените  для проверки гипотезы о нормальности распределения ежедневного среднего чека?\n",
    "* Как будут звучать нулевая и альтернативная гипотезы?\n",
    "* Каковы результаты статистического теста с уровнем значимости $\\alpha$=0.05?"
   ]
  },
  {
   "cell_type": "code",
   "execution_count": 17,
   "id": "898041ae-de7e-4b74-975e-111d494fbb82",
   "metadata": {},
   "outputs": [
    {
     "name": "stdout",
     "output_type": "stream",
     "text": [
      "Тест Шапиро-Уилка\n",
      "Значение p-value = 0.25 больше или равно уровня значимости (alpha) = 0.05\n",
      "Принимаем нулевую гипотезу: Данные группы A распределены нормально\n",
      "Отвергаем альтернативную гипотезу: Данные группы A не распределены нормально\n",
      "\n",
      "Тест Шапиро-Уилка\n",
      "Значение p-value = 0.09 больше или равно уровня значимости (alpha) = 0.05\n",
      "Принимаем нулевую гипотезу: Данные группы B распределены нормально\n",
      "Отвергаем альтернативную гипотезу: Данные группы B не распределены нормально\n"
     ]
    }
   ],
   "source": [
    "hypo_check(\n",
    "    shapiro(d_daily_piv.loc['A']['mean_check']),\n",
    "    method='Тест Шапиро-Уилка',\n",
    "    H0='Данные группы A распределены нормально',\n",
    "    Ha='Данные группы A не распределены нормально'\n",
    ")\n",
    "print()\n",
    "hypo_check(\n",
    "    shapiro(d_daily_piv.loc['B']['mean_check']),\n",
    "    method='Тест Шапиро-Уилка',\n",
    "    H0='Данные группы B распределены нормально',\n",
    "    Ha='Данные группы B не распределены нормально'\n",
    ")"
   ]
  },
  {
   "cell_type": "markdown",
   "id": "cbddecf9-4d15-4ff1-84e9-46c4d98fc1e0",
   "metadata": {
    "tags": []
   },
   "source": [
    "## **Задание 7.13**\n",
    "Настало время сравнить варианты дизайна страницы по метрике среднего чека. \n",
    "\n",
    "Какой тест вы примените для проверки гипотезы о равенстве средних чеков по дням в группах?\n",
    "\n",
    "Проведите тестирование при следующих нулевой и альтернативной гипотезе:\n",
    "* $H_0$: Ежедневные средние чеки в группах А и B равны; \n",
    "* $H_1$: Ежедневный средний чек в группе А меньше чем в группе B.\n",
    "\n",
    "Вычислите p-value вашего теста для ежедневного среднего чека в группах А и B. Сравните полученное значение p-value с уровнем значимости $\\alpha$=0.05. "
   ]
  },
  {
   "cell_type": "code",
   "execution_count": 18,
   "id": "05d43f23-2c2d-4795-bb96-1ffbfe81c391",
   "metadata": {},
   "outputs": [
    {
     "name": "stdout",
     "output_type": "stream",
     "text": [
      "T-тест средних значений (меньше)\n",
      "Значение p-value = 0.00 меньше уровня значимости (alpha) = 0.05\n",
      "Принимаем альтернативную гипотезу: Сумма среднего чека в группе А меньше, чем в группе B\n",
      "Отвергаем нулевую гипотезу: Сумма среднего чека в группах A и B одинаковая\n"
     ]
    }
   ],
   "source": [
    "hypo_check(\n",
    "    ttest_ind(\n",
    "        a=d_daily_piv.loc['A']['mean_check'],\n",
    "        b=d_daily_piv.loc['B']['mean_check'],\n",
    "        alternative='less'\n",
    "    ),\n",
    "    method='T-тест средних значений (меньше)',\n",
    "    H0='Сумма среднего чека в группах A и B одинаковая',\n",
    "    Ha='Сумма среднего чека в группе А меньше, чем в группе B'\n",
    ")"
   ]
  },
  {
   "cell_type": "markdown",
   "id": "8534ab25-68b8-48f7-b2c1-ef1b72d8a767",
   "metadata": {},
   "source": [
    "Приведите свои выводы по проведенному статистическому тесту. Есть ли статистическая разница между ежедневными средними чеками в группах А и B?"
   ]
  },
  {
   "cell_type": "markdown",
   "id": "197e3287",
   "metadata": {},
   "source": [
    "**Выводы:** T-тест для сравнения средних (при $\\alpha$=0.05) показал, что сумма среднего чека больше в группе B. Следовательно статистическая разница между суммами средних чеков групп A и B - значима. Таким образом вариант посадочной страницы группы B более эффективен, чем вариант группы A по метрике суммы среднего чека."
   ]
  },
  {
   "cell_type": "markdown",
   "id": "5e46c9a6-a943-48b4-ad72-935337469613",
   "metadata": {
    "tags": []
   },
   "source": [
    "## **Задание 7.14**\n",
    "\n",
    "Постройте 95%-ый доверительный интервал для среднего чека в каждой группе. Так как выборка средних чеков небольшая, используйте $t_{крит}$ в своих расчетах.\n",
    "\n",
    "Укажите нижнюю границу доверительного интервала для истинного среднего чека каждой из групп. Ответ приведите в процентах и округлите до целого."
   ]
  },
  {
   "cell_type": "code",
   "execution_count": 19,
   "id": "480430db-ffae-4aad-8e22-f5c70d4800b8",
   "metadata": {},
   "outputs": [
    {
     "name": "stdout",
     "output_type": "stream",
     "text": [
      "Доверительные интервалы, руб\n",
      "Группа A: (79630, 82308)\n",
      "Группа B: (87626, 89526)\n"
     ]
    }
   ],
   "source": [
    "confidence_interval_a = proportions_conf_interval_t(\n",
    "    n=d_daily_piv.loc['A']['mean_check'].count(),\n",
    "    x_mean=d_daily_piv.loc['A']['mean_check'].mean(),\n",
    "    x_std=d_daily_piv.loc['A']['mean_check'].std()\n",
    ")\n",
    "\n",
    "confidence_interval_b = proportions_conf_interval_t(\n",
    "    n=d_daily_piv.loc['B']['mean_check'].count(),\n",
    "    x_mean=d_daily_piv.loc['B']['mean_check'].mean(),\n",
    "    x_std=d_daily_piv.loc['B']['mean_check'].std()\n",
    ")\n",
    "\n",
    "print(f'''Доверительные интервалы, руб\n",
    "Группа A: {confidence_interval_a}\n",
    "Группа B: {confidence_interval_b}''')"
   ]
  },
  {
   "cell_type": "markdown",
   "id": "74a78db8-48f7-41d2-94cb-faefb30b8f76",
   "metadata": {},
   "source": [
    "Интерпретируйте построенные доверительные интервалы для ежедневных средних чеков в группах. Есть ли между ними пересечения?"
   ]
  },
  {
   "cell_type": "markdown",
   "id": "3f166582",
   "metadata": {},
   "source": [
    "**Выводы:** На основании расчётов видно, что с надёжностью в 95% сумма среднего чека варианта посадочной страницы группы А лежит в интервале от 79630 руб до 82308 руб, а сумма среднего чека варианта посадочной таблицы группы B лежит в интервале от 87626 руб до 89526 руб. Доверительные интервалы групп A и B не пересекаются - следовательно истинное значение суммы среднего чека группы A и группы B никогда не совпадёт (что видно и на графике, см. задание 7.9). Вариант посадочной страницы группы B всегда даёт сумму среднего чека выше на 9%, чем вариант группы A. Следовательно для получения большей выручки, необходимо использовать вариант посадочной страницы группы B."
   ]
  },
  {
   "cell_type": "markdown",
   "id": "c078852f-892f-42ed-8d78-73edf8eb1f5e",
   "metadata": {
    "tags": []
   },
   "source": [
    "## **Сделайте общий вывод по результатам A/B-теста**\n",
    "\n",
    "Какой варианта дизайна посадочной страницы является более эффективным в комплексе по метрикам конверсии и среднего чека и почему? "
   ]
  },
  {
   "cell_type": "markdown",
   "id": "082467e3",
   "metadata": {},
   "source": [
    "**Выводы:** В ходе анализа данных посещения и покупок двух вариантов посадочной страницы групп A и B было опредлено, что:\n",
    "* Посадочная страница группы B более эффективна в продаже более дорогих туров в Таиланд;\n",
    "* По метрике конверсии различия вариантов посадочных страниц групп A и B статистически не значительны;\n",
    "* По метрике суммы среднего чека вариант страницы группы B стабильно выше на 9% среднего чека группы A.\n",
    "\n",
    "Следовательно для получения большей выручки, необходимо использовать вариант посадочной страницы группы B."
   ]
  }
 ],
 "metadata": {
  "kernelspec": {
   "display_name": "Python 3.10.4 64-bit",
   "language": "python",
   "name": "python3"
  },
  "language_info": {
   "codemirror_mode": {
    "name": "ipython",
    "version": 3
   },
   "file_extension": ".py",
   "mimetype": "text/x-python",
   "name": "python",
   "nbconvert_exporter": "python",
   "pygments_lexer": "ipython3",
   "version": "3.10.4"
  },
  "vscode": {
   "interpreter": {
    "hash": "946feb9839a4645ab30287d1b551a06a94c9159eae961b6916d36103a3d0b7b2"
   }
  }
 },
 "nbformat": 4,
 "nbformat_minor": 5
}
